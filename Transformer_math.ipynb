{
  "nbformat": 4,
  "nbformat_minor": 0,
  "metadata": {
    "colab": {
      "provenance": [],
      "gpuType": "T4"
    },
    "kernelspec": {
      "name": "python3",
      "display_name": "Python 3"
    },
    "language_info": {
      "name": "python"
    },
    "accelerator": "GPU"
  },
  "cells": [
    {
      "cell_type": "markdown",
      "source": [
        "# Project Description:\n",
        "\n",
        "The purpose of this project is to implement a neural network that performs the translation of mathematical formulae from traditional **infix notation**—where the operator appears between two operands—to **postfix** (also known as Reverse Polish Notation), where the operator follows the operands.\n",
        "\n",
        "Infix notation is the most commonly used in human-readable mathematics (e.g., a + b), but it is inherently ambiguous without additional syntactic aids such as parentheses or operator precedence rules. This ambiguity arises because different parse trees can correspond to the same expression depending on how operations are grouped.\n",
        "\n",
        "In contrast, postfix notation eliminates the need for parentheses entirely. The order of operations is explicitly encoded by the position of the operators relative to the operands, making it more suitable for stack-based evaluation and easier to parse programmatically.\n",
        "\n",
        "**Example:**\n",
        "\n",
        "Consider the ambiguous infix expression:\n",
        "a + b * c\n",
        "\n",
        "This expression can be parsed in at least two different ways:\n",
        "\n",
        "Interpretation (Infix):\t(a + b) * c\t   \n",
        "Equivalent Postfix: ab+c*\n",
        "\n",
        "Interpretation (Infix):\ta + (b * c)\t          \n",
        "Equivalent Postfix: abc*+\n",
        "\n",
        "\n",
        "This project aims to learn such disambiguations and generate the correct postfix form from a given infix expression using a data-driven approach based on neural networks. To simplify the task and control the complexity of expressions, we restrict our dataset to formulae with a maximum syntactic depth of 3. This means that the abstract syntax trees representing these expressions will have at most three levels, ensuring that the neural network operates on a bounded and manageable set of possible structures."
      ],
      "metadata": {
        "id": "uPFPtHankgU8"
      }
    },
    {
      "cell_type": "code",
      "source": [
        "import numpy as np\n",
        "import random\n",
        "import string\n",
        "import tensorflow as tf\n",
        "from tensorflow.keras import layers, models"
      ],
      "metadata": {
        "id": "i_tRkF6n6smU"
      },
      "execution_count": null,
      "outputs": []
    },
    {
      "cell_type": "markdown",
      "source": [
        "We build formulae using 5 identifiers a,b,c,d,e and 4 binary operators +,-,*,/.\n",
        "For simplicity we do not take advantage of precedence or associativity rules for infix notation, and suppose that all binary operations as always fully parenthesizes: (e1 op e2)."
      ],
      "metadata": {
        "id": "QFSHpEHjpa1x"
      }
    },
    {
      "cell_type": "code",
      "source": [
        "# -------------------- Constants --------------------\n",
        "OPERATORS = ['+', '-', '*', '/']\n",
        "IDENTIFIERS = list('abcde')\n",
        "SPECIAL_TOKENS = ['PAD', 'SOS', 'EOS']\n",
        "SYMBOLS = ['(', ')', '+', '-', '*', '/']\n",
        "VOCAB = SPECIAL_TOKENS + SYMBOLS + IDENTIFIERS + ['JUNK'] #may use junk in autoregressive generation\n",
        "\n",
        "token_to_id = {tok: i for i, tok in enumerate(VOCAB)}\n",
        "id_to_token = {i: tok for tok, i in token_to_id.items()}\n",
        "VOCAB_SIZE = len(VOCAB)\n",
        "PAD_ID = token_to_id['PAD']\n",
        "EOS_ID = token_to_id['EOS']\n",
        "SOS_ID = token_to_id['SOS']\n",
        "\n",
        "MAX_DEPTH = 3\n",
        "MAX_LEN = 4*2**MAX_DEPTH -2 #enough to fit expressions at given depth (+ EOS)"
      ],
      "metadata": {
        "id": "IINM81OK61pH"
      },
      "execution_count": null,
      "outputs": []
    },
    {
      "cell_type": "code",
      "source": [
        "# -------------------- Expression Generation --------------------\n",
        "def generate_infix_expression(max_depth):\n",
        "    if max_depth == 0:\n",
        "        return random.choice(IDENTIFIERS)\n",
        "    elif random.random() < 0.5:\n",
        "        return generate_infix_expression(max_depth - 1)\n",
        "    else:\n",
        "        left = generate_infix_expression(max_depth - 1)\n",
        "        right = generate_infix_expression(max_depth - 1)\n",
        "        op = random.choice(OPERATORS)\n",
        "        return f'({left} {op} {right})'\n",
        "\n",
        "def tokenize(expr):\n",
        "    return [c for c in expr if c in token_to_id]\n",
        "\n",
        "def infix_to_postfix(tokens):\n",
        "    precedence = {'+': 1, '-': 1, '*': 2, '/': 2}\n",
        "    output, stack = [], []\n",
        "    for token in tokens:\n",
        "        if token in IDENTIFIERS:\n",
        "            output.append(token)\n",
        "        elif token in OPERATORS:\n",
        "            while stack and stack[-1] in OPERATORS and precedence[stack[-1]] >= precedence[token]:\n",
        "                output.append(stack.pop())\n",
        "            stack.append(token)\n",
        "        elif token == '(':\n",
        "            stack.append(token)\n",
        "        elif token == ')':\n",
        "            while stack and stack[-1] != '(':\n",
        "                output.append(stack.pop())\n",
        "            stack.pop()\n",
        "    while stack:\n",
        "        output.append(stack.pop())\n",
        "    return output\n",
        "\n",
        "def encode(tokens, max_len=MAX_LEN):\n",
        "    ids = [token_to_id[t] for t in tokens] + [EOS_ID]\n",
        "    return ids + [PAD_ID] * (max_len - len(ids))\n",
        "\n",
        "def decode_sequence(token_ids, id_to_token, pad_token='PAD', eos_token='EOS'):\n",
        "    \"\"\"\n",
        "    Converts a list of token IDs into a readable string by decoding tokens.\n",
        "    Stops at the first EOS token if present, and ignores PAD tokens.\n",
        "    \"\"\"\n",
        "    tokens = []\n",
        "    for token_id in token_ids:\n",
        "        token = id_to_token.get(token_id, '?')\n",
        "        if token == eos_token:\n",
        "            break\n",
        "        if token != pad_token:\n",
        "            tokens.append(token)\n",
        "    return ' '.join(tokens)\n",
        "\n",
        "def generate_dataset(n,max_depth=MAX_DEPTH):\n",
        "    X, Y = [], []\n",
        "    for _ in range(n):\n",
        "        expr = generate_infix_expression(max_depth)\n",
        "        #expr = expr_gen.generate(max_depth=max_dthep)\n",
        "        infix = tokenize(expr)\n",
        "        postfix = infix_to_postfix(infix)\n",
        "        X.append(encode(infix))\n",
        "        Y.append(encode(postfix))\n",
        "    return np.array(X), np.array(Y)\n",
        "\n",
        "#you might use the shift function for teacher-forcing\n",
        "def shift_right(seqs):\n",
        "    shifted = np.zeros_like(seqs)\n",
        "    shifted[:, 1:] = seqs[:, :-1]\n",
        "    shifted[:, 0] = SOS_ID\n",
        "    return shifted"
      ],
      "metadata": {
        "id": "T-fO911d6_FW"
      },
      "execution_count": null,
      "outputs": []
    },
    {
      "cell_type": "markdown",
      "source": [
        "Let us define a simple dataset, and inspect a few samples."
      ],
      "metadata": {
        "id": "DENVmP3Jq5Zf"
      }
    },
    {
      "cell_type": "code",
      "source": [
        "X_train, Y_train = generate_dataset(12000)\n",
        "decoder_input_train = shift_right(Y_train)\n",
        "\n",
        "# Dataset\n",
        "X_val, Y_val = generate_dataset(1000)\n",
        "decoder_input_val = shift_right(Y_val)"
      ],
      "metadata": {
        "id": "gdlonKn47dE7"
      },
      "execution_count": null,
      "outputs": []
    },
    {
      "cell_type": "code",
      "source": [
        "i =  np.random.randint(12000)\n",
        "print(i)\n",
        "print(\"infix : \",decode_sequence(X_train[i],id_to_token))\n",
        "print(\"posfix notation: \",decode_sequence(Y_train[i],id_to_token))\n",
        "print(\"teacher forcing : \", decode_sequence(decoder_input_train[i],id_to_token))"
      ],
      "metadata": {
        "colab": {
          "base_uri": "https://localhost:8080/"
        },
        "id": "TogClrT6F2Th",
        "outputId": "67d6c671-41e7-4720-89d7-a452663236bd"
      },
      "execution_count": null,
      "outputs": [
        {
          "output_type": "stream",
          "name": "stdout",
          "text": [
            "5174\n",
            "infix :  ( e / a )\n",
            "posfix notation:  e a /\n",
            "teacher forcing :  SOS e a /\n"
          ]
        }
      ]
    },
    {
      "cell_type": "markdown",
      "source": [
        "# Evaluation\n",
        "\n",
        "We shall evaluate a generated item y_pred using \"prefix accuracy\", the lenght of\n",
        "the initial prefix of y_pred matching the ground true y_true. This will be divided by the maximum length of y_true and y_pred (up to EOS), so that a perfect match has score 1.\n",
        "\n",
        "* It's more informative than exact match (which is often 0)\n",
        "\n",
        "* It’s tighter than edit distance: focuses on generation flow\n",
        "\n",
        "* Captures where the model starts to make errors\n",
        "\n"
      ],
      "metadata": {
        "id": "QDUjK4SGvT0s"
      }
    },
    {
      "cell_type": "code",
      "source": [
        "def prefix_accuracy_single(y_true, y_pred, id_to_token, eos_id=EOS_ID, verbose=False):\n",
        "    t_str = decode_sequence(y_true, id_to_token).split(' EOS')[0]\n",
        "    p_str = decode_sequence(y_pred, id_to_token).split(' EOS')[0]\n",
        "    t_tokens = t_str.strip().split()\n",
        "    p_tokens = p_str.strip().split()\n",
        "    max_len = max(len(t_tokens), len(p_tokens))\n",
        "\n",
        "    match_len = sum(x == y for x, y in zip(t_tokens, p_tokens))\n",
        "    score = match_len / max_len if max_len>0 else 0\n",
        "\n",
        "    if verbose:\n",
        "        print(\"TARGET :\", ' '.join(t_tokens))\n",
        "        print(\"PREDICT:\", ' '.join(p_tokens))\n",
        "        print(f\"PREFIX MATCH: {match_len}/{len(t_tokens)} → {score:.2f}\")\n",
        "\n",
        "    return score"
      ],
      "metadata": {
        "id": "MeqyasiYxCpU"
      },
      "execution_count": null,
      "outputs": []
    },
    {
      "cell_type": "markdown",
      "source": [
        "For the exam, evaluate you model on a test set of 20 expressions. Repeat this evaluation 10 times, and return the mean and std for this rounds."
      ],
      "metadata": {
        "id": "HeCRiqvsxQax"
      }
    },
    {
      "cell_type": "code",
      "source": [
        "#def test(no=20,rounds=10):\n",
        "#  rscores =[]\n",
        "#  for i in range(rounds):\n",
        "#    print(\"round=\",i)\n",
        "#    X_test, Y_test = generate_dataset(no)\n",
        "#    scores = []\n",
        "#    for j in range(no):\n",
        "#      encoder_input=X_test[j]\n",
        "#      generated = autoregressive_decode(model, encoder_input)[1:] #remove SOS\n",
        "#      scores.append(prefix_accuracy_single(Y_test[j], generated, id_to_token))\n",
        "#    rscores.append(np.mean(scores))\n",
        "#  return np.mean(rscores),np.std(rscores)\n",
        "#\n",
        "#res, std = test(20,10)\n",
        "#print(\"score=\",res,\"std=\",std)\"\"\""
      ],
      "metadata": {
        "id": "aR-9eTs28x4l"
      },
      "execution_count": null,
      "outputs": []
    },
    {
      "cell_type": "markdown",
      "source": [
        "Be sure to evalutate the generator: your model may only take as input the expression in infix format and return its translation to postifix.\n",
        "\n",
        "If you are usuing an encoder-decoder model, generation must be done autoregressively."
      ],
      "metadata": {
        "id": "AxxXPqKQ86fZ"
      }
    },
    {
      "cell_type": "markdown",
      "source": [
        "----------------------------------------------------------------\n",
        "#Project development\n",
        "----------------------------------------------------------------"
      ],
      "metadata": {
        "id": "f6TichFk5P81"
      }
    },
    {
      "cell_type": "markdown",
      "source": [
        "### Imports and weights loading"
      ],
      "metadata": {
        "id": "GzEo0mwmZLV1"
      }
    },
    {
      "cell_type": "code",
      "source": [
        "# --- Imports ---\n",
        "import math\n",
        "import os\n",
        "from collections import Counter\n",
        "\n",
        "import gdown\n",
        "from pathlib import Path\n",
        "import json\n",
        "import pickle\n",
        "import matplotlib.pyplot as plt\n",
        "\n",
        "import tensorflow as tf\n",
        "from tensorflow import keras\n",
        "from tensorflow.keras import layers\n",
        "from tensorflow.keras.callbacks import EarlyStopping"
      ],
      "metadata": {
        "id": "hAsLHJlnLFtk"
      },
      "execution_count": null,
      "outputs": []
    },
    {
      "cell_type": "code",
      "source": [
        "#model weights --> to use this weights, change the retrain parameter to False #now fixed correctly\n",
        "import gdown\n",
        "!gdown 1wxF3NXw-nHghSZPWGSokrGNFVn1tnhpu"
      ],
      "metadata": {
        "colab": {
          "base_uri": "https://localhost:8080/"
        },
        "id": "HiNY0QPHRjS3",
        "outputId": "33e110ca-d4a4-43d0-e4b9-4feb8be6cbdd"
      },
      "execution_count": null,
      "outputs": [
        {
          "output_type": "stream",
          "name": "stdout",
          "text": [
            "Downloading...\n",
            "From: https://drive.google.com/uc?id=1wxF3NXw-nHghSZPWGSokrGNFVn1tnhpu\n",
            "To: /content/infix2postfix.weights.h5\n",
            "\r  0% 0.00/2.82M [00:00<?, ?B/s]\r 37% 1.05M/2.82M [00:00<00:00, 9.64MB/s]\r100% 2.82M/2.82M [00:00<00:00, 19.6MB/s]\n"
          ]
        }
      ]
    },
    {
      "cell_type": "markdown",
      "source": [
        "## 📊 Data Analysis\n",
        "The data generator uses a binomial (3,0.5) distribution :\n",
        "\n",
        "$$\n",
        "P(\\mathrm{depth}=k)\n",
        "\\;=\\;\n",
        "\\binom{n}{k}\\,p^k\\,(1-p)^{n-k}\n",
        "\\;=\\;\n",
        "\\binom{3}{k}\\, \\Bigl(\\tfrac12\\Bigr)^k\\Bigl(\\tfrac12\\Bigr)^{3-k}\n",
        "\\;=\\;\n",
        "\\binom{3}{k}\\,\\Bigl(\\tfrac12\\Bigr)^3\n",
        "$$\n",
        "\n",
        "\n",
        "- **Depth 0** occurs with probability \\(1/8\\).  \n",
        "- **Depth 1** and **2** both occur with probability \\(3/8\\).  \n",
        "- **Depth 3** occurs with probability \\(1/8\\).\n",
        "\n",
        "Because there are only 5 possible depth-0 formulas (one for each identifier  **a** through **e**), in a sample of 10\\,000 expressions we expect\n",
        "$$\n",
        "[\n",
        "10\\,000 \\times \\tfrac18 = 1\\,250\n",
        "]\n",
        "\\  i.e.\\ on average\n",
        "[\n",
        "\\frac{1\\,250}{5} = 250\n",
        "]\n",
        "$$\n",
        "instances of each identifier at depth 0.  \n",
        "\n",
        "At greater depths the space of unique formulas grows quickly, so the number of repeatitions per exact structure decreases correspondingly.\n",
        "\n",
        "**This will lead to partial repetitions in training, validation and test set**\n",
        "\n",
        "As expicitly said in the exam rules, i will not change the frequency distribution of the generator helping training, but i will increase a litlle the training dimension to 12k to enlarge the dimensions (letting the model train on more depth 3 expressions)."
      ],
      "metadata": {
        "id": "lU6k4BnlXLqr"
      }
    },
    {
      "cell_type": "markdown",
      "source": [
        "### Custom evaluation at test time\n",
        "At test time i will test the model:\n",
        "- with the prescribed stanard generator\n",
        "- with another custom generator which outputs formulas fixed at depth 3 **to evaluate model generalization on harder formulas**."
      ],
      "metadata": {
        "id": "47KBPW3XjACG"
      }
    },
    {
      "cell_type": "code",
      "source": [
        "#formula generator at depth 3 for testing model performances\n",
        "def generate_exact_depth_expression(depth):\n",
        "    \"\"\"\n",
        "    Generate infix expression with exactly the given depth\n",
        "    \"\"\"\n",
        "    if depth == 0:\n",
        "        return random.choice(IDENTIFIERS)\n",
        "    else:\n",
        "        left=generate_exact_depth_expression(depth-1)\n",
        "        right= generate_exact_depth_expression(depth-1)\n",
        "        op =random.choice(OPERATORS)\n",
        "        return f'({left} {op} {right})'\n",
        "\n",
        "def generate_dataset_depth3(n):\n",
        "    \"\"\"\n",
        "    Generate dataset of n infix expressions of depth 3\n",
        "    \"\"\"\n",
        "    X,Y= [],[]\n",
        "    for _ in range(n):\n",
        "        expr =generate_exact_depth_expression(3)\n",
        "        infix =tokenize(expr)\n",
        "        postfix =infix_to_postfix(infix)\n",
        "        X.append(encode(infix))\n",
        "        Y.append(encode(postfix))\n",
        "    return np.array(X),np.array(Y)"
      ],
      "metadata": {
        "id": "XQmoZxTc3qIS"
      },
      "execution_count": null,
      "outputs": []
    },
    {
      "cell_type": "markdown",
      "source": [
        "## 🧠 Model Selection\n",
        "\n",
        "This is a **Sequence-to-Sequence(Seq2Seq)** task aiming at translating fully mathematical expressions from infix to postfix notation (RPN).\n",
        "\n",
        "### Model Candidates i see:\n",
        "1. **LSTM based Encoder-Decoder with Attention**\n",
        "2. **Transformer based Encoder-Decoder or Decoder only**\n",
        "\n",
        "### Comparative Analysis:\n",
        "\n",
        "| Aspect                     | LSTM + Attention           | Transformer                 |\n",
        "|---------------------------|----------------------------|-----------------------------|\n",
        "| Parallelization           | ❌Low (sequential)         | ✅ High                     |\n",
        "| Memory Efficiency         | ✅Better                   | ❌ Higher cost       |\n",
        "| Parameter Efficiency      | ✅ Fewer parameters         | ❌A little bit more but well under 2 millions for this task     |\n",
        "| Generalization to Formula Depth  | ❌ May struggle             | ✅ Handles nested structures well |\n",
        "| Training Speed (short seq) | ❌ Slower                   | ✅ Faster per epoch         |\n",
        "\n",
        "### Final Choice:\n",
        "\n",
        "Due to the following reasons:\n",
        "- Transformers are better suited to capture long-range dependencies in symbolic data.\n",
        "- It is feasible to build a Transformer under the 2M parameter limit.\n",
        "- Future scalability is desirable in case of increased expression depth or broader syntax.\n",
        "\n",
        "**I chose a Transformer-based encoder-decoder architecture** for this project.\n",
        "\n",
        "**At the end of the notebook i will report also the results obtained with LSTM architecture**\n"
      ],
      "metadata": {
        "id": "Mr_PDjVhc0qm"
      }
    },
    {
      "cell_type": "markdown",
      "source": [
        "## Transformer encoder-decoder\n",
        "Here are described the parameters setting:\n",
        "- d_model=32\n",
        "- num_encoders=3\n",
        "- encoder_attention_heads=4\n",
        "- encoder_ff_dim=128\n",
        "- num_decoders=3\n",
        "- decoder_attention_heads=4\n",
        "- decoder_ff_dim=128\n",
        "- BATCH_SIZE = 64\n",
        "- EPOCHS = 20\n",
        "\n",
        "For the sake of this task, model's parameters could also be reduced even more, but the model would become very poorly generalizable.\n",
        "\n",
        "What i'm trying to do is making a model which learn rules and patterns for infix-RPN generation, not memorize combinations.\n",
        "\n",
        "### Model parameters: 203.247\n"
      ],
      "metadata": {
        "id": "s7zlq3_LpCWh"
      }
    },
    {
      "cell_type": "code",
      "source": [
        "class Token_Position_Embedding(keras.layers.Layer):\n",
        "    \"\"\"\n",
        "    Combines learned token embeddings with fixed sinusoidal positional encodings (like in the original Transformers paper \"Attention is all you need\").\n",
        "    Attributes:\n",
        "        token_embedding: embedding layer mapping token IDs to vectors.\n",
        "        pos_encoding: Precomputed positional encoding matrix.\n",
        "        max_length: Maximum sequence length for which pos encodings were computed.\n",
        "        embed_dim: Dimensionality of the embedding vectors.\n",
        "    \"\"\"\n",
        "    def __init__(self, max_length, vocab_size, embed_dim, **kwargs):\n",
        "        super().__init__(**kwargs)\n",
        "        self.token_embedding = keras.layers.Embedding(input_dim=vocab_size, output_dim=embed_dim,mask_zero=True)\n",
        "        self.pos_encoding = self.positionalEncoding(length=max_length,depth=embed_dim)\n",
        "        self.max_length = max_length\n",
        "        self.embed_dim = embed_dim\n",
        "\n",
        "\n",
        "    def positionalEncoding(self,length,depth):\n",
        "        depth = depth / 2\n",
        "        positions = np.arange(length)[:, np.newaxis]\n",
        "        depths = np.arange(depth)[np.newaxis, :] / depth\n",
        "        angle_rates = 1 / (10000**depths)\n",
        "        angle_rads = positions * angle_rates\n",
        "        return tf.cast(np.concatenate( [np.sin(angle_rads), np.cos(angle_rads)], axis=-1), dtype=tf.float32)\n",
        "\n",
        "\n",
        "    def call(self, x, training):\n",
        "        x = self.token_embedding(x, training=training)\n",
        "        x *= tf.math.sqrt(tf.cast(self.embed_dim, tf.float32))\n",
        "        x = x + self.pos_encoding[tf.newaxis, :tf.shape(x)[1], :]\n",
        "        return x"
      ],
      "metadata": {
        "id": "8inWHuBwg_Ek"
      },
      "execution_count": null,
      "outputs": []
    },
    {
      "cell_type": "code",
      "source": [
        "class Transformer_Encoder(keras.layers.Layer):\n",
        "    \"\"\"\n",
        "    The layer implements one encoder block from the original paper \"Attention is all you need\".\n",
        "    Initially it does a multi-head self attention followed by a position wise feed forward network,\n",
        "    each wrapped with residual connections and a layer normalization.\n",
        "    \"\"\"\n",
        "    def __init__(self, att_heads=6, embed_dim=128, ff_dim=1024, activation=\"swish\", dropout=0.1, **kwargs):\n",
        "        super().__init__(**kwargs)\n",
        "\n",
        "        self.attention_heads = keras.layers.MultiHeadAttention(num_heads=att_heads, key_dim=embed_dim, dropout=dropout)\n",
        "        self.attention_norm = keras.layers.LayerNormalization(epsilon=1e-5)\n",
        "\n",
        "        self.ff_block = keras.Sequential([\n",
        "            keras.layers.Dense(ff_dim, activation=activation),\n",
        "            keras.layers.Dropout(dropout),\n",
        "            keras.layers.Dense(embed_dim),\n",
        "        ])\n",
        "        self.ff_norm = keras.layers.LayerNormalization(epsilon=1e-5)\n",
        "\n",
        "\n",
        "    def call(self, inputs, training):\n",
        "        attention_out = self.attention_heads(\n",
        "            query = inputs,\n",
        "            value = inputs,\n",
        "            key = inputs,\n",
        "            training = training\n",
        "        )\n",
        "        attention_out = self.attention_norm(attention_out + inputs, training=training)\n",
        "        ff_out = self.ff_block(attention_out, training=training)\n",
        "        return self.ff_norm(ff_out + attention_out, training=training)"
      ],
      "metadata": {
        "id": "D-gFCSQejl8e"
      },
      "execution_count": null,
      "outputs": []
    },
    {
      "cell_type": "code",
      "source": [
        "class Transformer_Decoder(keras.layers.Layer):\n",
        "    \"\"\"\n",
        "    The layer implements a decoder block from the original paper \"Attention is all you need\".\n",
        "    Initially it applies masked multi-head self-attention to the target sequence (preventing positions for attending future tokens)\n",
        "    then attends to the enc.output via multi head cross attention and passes the output to a position wise feed forward network.\n",
        "    Each wrapped with residual connections and a layer normalization.\n",
        "    \"\"\"\n",
        "    def __init__(self, att_heads=6, embed_dim=128,ff_dim=1024, activation=\"swish\",dropout=0.1,**kwargs):\n",
        "        super().__init__(**kwargs)\n",
        "\n",
        "        self.attention_heads1 = keras.layers.MultiHeadAttention(num_heads=att_heads,key_dim=embed_dim,dropout=dropout)\n",
        "        self.attention_heads2 = keras.layers.MultiHeadAttention(num_heads=att_heads,key_dim=embed_dim,dropout=dropout)\n",
        "\n",
        "        self.attention_norm1 = keras.layers.LayerNormalization(epsilon=1e-5)\n",
        "        self.attention_norm2 = keras.layers.LayerNormalization(epsilon=1e-5)\n",
        "\n",
        "        self.ff_block = keras.Sequential([\n",
        "            keras.layers.Dense(ff_dim, activation=activation),\n",
        "            keras.layers.Dropout(dropout),\n",
        "            keras.layers.Dense(embed_dim),\n",
        "        ])\n",
        "        self.ff_norm = keras.layers.LayerNormalization(epsilon=1e-5)\n",
        "\n",
        "\n",
        "    def call(self,inputs, encoder_out,training):\n",
        "        attention1_out = self.attention_heads1(\n",
        "            query = inputs,\n",
        "            value = inputs,\n",
        "            key = inputs,\n",
        "            use_causal_mask = True,\n",
        "            training = training\n",
        "        )\n",
        "        attention1_out = self.attention_norm1(attention1_out + inputs, training=training)\n",
        "\n",
        "        attention2_out = self.attention_heads2(\n",
        "            query = attention1_out,\n",
        "            value = encoder_out,\n",
        "            key = encoder_out,\n",
        "            training = training\n",
        "        )\n",
        "        attention2_out = self.attention_norm2(attention2_out + attention1_out, training=training)\n",
        "\n",
        "        ff_out = self.ff_block(attention2_out, training=training)\n",
        "        return self.ff_norm(ff_out + attention2_out, training=training)"
      ],
      "metadata": {
        "id": "SpX2SeJxj66O"
      },
      "execution_count": null,
      "outputs": []
    },
    {
      "cell_type": "code",
      "source": [
        "class InfixToPostfixTransformer(keras.Model):\n",
        "    \"\"\"\n",
        "    Here i implement a seq-2-seq transformer\n",
        "    It consists of:\n",
        "    - token and position embedding layer to encode intput and output sequences\n",
        "    - a stack of transformer encoder blocks to process the infix input\n",
        "    - a stack of transfofmer decoder blocks to generate output in postfix form, attending the encoder features\n",
        "    - a final softmax layer that predicts the next token in the output sequence\n",
        "    \"\"\"\n",
        "    def __init__(self,\n",
        "        input_size =MAX_LEN,\n",
        "        vocab_size =VOCAB_SIZE,\n",
        "        d_model =256,\n",
        "        num_encoders =3,\n",
        "        encoder_attention_heads =6,\n",
        "        encoder_ff_dim =512,\n",
        "        num_decoders =3,\n",
        "        decoder_attention_heads =6,\n",
        "        decoder_ff_dim =512,\n",
        "        activation =\"swish\",\n",
        "        **kwargs\n",
        "    ):\n",
        "        super().__init__(**kwargs)\n",
        "\n",
        "        self.embedding= Token_Position_Embedding(input_size, vocab_size,d_model,name=\"embedding\")\n",
        "        self.encoders_block= [\n",
        "            Transformer_Encoder(embed_dim=d_model,att_heads=encoder_attention_heads,ff_dim=encoder_ff_dim,activation=activation,name=f\"encoder{i}\")\n",
        "            for i in range(num_encoders)\n",
        "         ]\n",
        "        self.decoders_block= [\n",
        "            Transformer_Decoder(embed_dim=d_model,att_heads=decoder_attention_heads,ff_dim=decoder_ff_dim,activation=activation,name=f\"decoder{i}\" )\n",
        "            for i in range(num_decoders)\n",
        "         ]\n",
        "        self.final_layer = keras.layers.Dense(vocab_size,activation=\"softmax\",name=\"softmax\")\n",
        "\n",
        "\n",
        "    def call(self,inputs,training=False):\n",
        "        encoder_in, decoded_in = inputs\n",
        "\n",
        "        encoder_out =self.embedding(encoder_in, training=training)\n",
        "        for i in range(len(self.encoders_block)):\n",
        "            encoder_out=self.encoders_block[i](encoder_out, training=training)\n",
        "\n",
        "        decoder_out =self.embedding(decoded_in, training=training)\n",
        "        for i in range(len(self.decoders_block)):\n",
        "            decoder_out=self.decoders_block[i](decoder_out, encoder_out, training=training)\n",
        "\n",
        "        return self.final_layer(decoder_out, training=training)"
      ],
      "metadata": {
        "id": "hZ39AxYmkCvw"
      },
      "execution_count": null,
      "outputs": []
    },
    {
      "cell_type": "markdown",
      "source": [
        "### Model initialization"
      ],
      "metadata": {
        "id": "ymXNNioMZ6Wd"
      }
    },
    {
      "cell_type": "code",
      "source": [
        "d_model = 32\n",
        "\n",
        "model = InfixToPostfixTransformer(\n",
        "    d_model = d_model ,\n",
        "    num_encoders = 3,\n",
        "    encoder_attention_heads = 4,\n",
        "    encoder_ff_dim = 128,\n",
        "    num_decoders = 3,\n",
        "    decoder_attention_heads = 4,\n",
        "    decoder_ff_dim = 128,\n",
        ")\n",
        "\n",
        "# here i build the input layers for the encoder and the decoder\n",
        "inputs = [\n",
        "    keras.layers.Input(shape=(MAX_LEN,), name=\"encoder-in\"),\n",
        "    keras.layers.Input(shape=(MAX_LEN,), name=\"decoder-in\")\n",
        "]\n",
        "\n",
        "keras.Model(inputs=inputs, outputs=model.call(inputs)).summary()"
      ],
      "metadata": {
        "colab": {
          "base_uri": "https://localhost:8080/",
          "height": 593
        },
        "id": "GfaB5AnskF56",
        "outputId": "f8ab3d38-44f1-4618-be09-cf57183f9031"
      },
      "execution_count": null,
      "outputs": [
        {
          "output_type": "display_data",
          "data": {
            "text/plain": [
              "\u001b[1mModel: \"functional_57\"\u001b[0m\n"
            ],
            "text/html": [
              "<pre style=\"white-space:pre;overflow-x:auto;line-height:normal;font-family:Menlo,'DejaVu Sans Mono',consolas,'Courier New',monospace\"><span style=\"font-weight: bold\">Model: \"functional_57\"</span>\n",
              "</pre>\n"
            ]
          },
          "metadata": {}
        },
        {
          "output_type": "display_data",
          "data": {
            "text/plain": [
              "┏━━━━━━━━━━━━━━━━━━━━━┳━━━━━━━━━━━━━━━━━━━┳━━━━━━━━━━━━┳━━━━━━━━━━━━━━━━━━━┓\n",
              "┃\u001b[1m \u001b[0m\u001b[1mLayer (type)       \u001b[0m\u001b[1m \u001b[0m┃\u001b[1m \u001b[0m\u001b[1mOutput Shape     \u001b[0m\u001b[1m \u001b[0m┃\u001b[1m \u001b[0m\u001b[1m   Param #\u001b[0m\u001b[1m \u001b[0m┃\u001b[1m \u001b[0m\u001b[1mConnected to     \u001b[0m\u001b[1m \u001b[0m┃\n",
              "┡━━━━━━━━━━━━━━━━━━━━━╇━━━━━━━━━━━━━━━━━━━╇━━━━━━━━━━━━╇━━━━━━━━━━━━━━━━━━━┩\n",
              "│ decoder-in          │ (\u001b[38;5;45mNone\u001b[0m, \u001b[38;5;34m30\u001b[0m)        │          \u001b[38;5;34m0\u001b[0m │ -                 │\n",
              "│ (\u001b[38;5;33mInputLayer\u001b[0m)        │                   │            │                   │\n",
              "├─────────────────────┼───────────────────┼────────────┼───────────────────┤\n",
              "│ encoder-in          │ (\u001b[38;5;45mNone\u001b[0m, \u001b[38;5;34m30\u001b[0m)        │          \u001b[38;5;34m0\u001b[0m │ -                 │\n",
              "│ (\u001b[38;5;33mInputLayer\u001b[0m)        │                   │            │                   │\n",
              "├─────────────────────┼───────────────────┼────────────┼───────────────────┤\n",
              "│ embedding           │ (\u001b[38;5;45mNone\u001b[0m, \u001b[38;5;34m30\u001b[0m, \u001b[38;5;34m32\u001b[0m)    │        \u001b[38;5;34m480\u001b[0m │ encoder-in[\u001b[38;5;34m0\u001b[0m][\u001b[38;5;34m0\u001b[0m], │\n",
              "│ (\u001b[38;5;33mToken_Position_Em…\u001b[0m │                   │            │ decoder-in[\u001b[38;5;34m0\u001b[0m][\u001b[38;5;34m0\u001b[0m]  │\n",
              "├─────────────────────┼───────────────────┼────────────┼───────────────────┤\n",
              "│ encoder0            │ (\u001b[38;5;45mNone\u001b[0m, \u001b[38;5;34m30\u001b[0m, \u001b[38;5;34m32\u001b[0m)    │     \u001b[38;5;34m25,280\u001b[0m │ embedding[\u001b[38;5;34m0\u001b[0m][\u001b[38;5;34m0\u001b[0m]   │\n",
              "│ (\u001b[38;5;33mTransformer_Encod…\u001b[0m │                   │            │                   │\n",
              "├─────────────────────┼───────────────────┼────────────┼───────────────────┤\n",
              "│ encoder1            │ (\u001b[38;5;45mNone\u001b[0m, \u001b[38;5;34m30\u001b[0m, \u001b[38;5;34m32\u001b[0m)    │     \u001b[38;5;34m25,280\u001b[0m │ encoder0[\u001b[38;5;34m0\u001b[0m][\u001b[38;5;34m0\u001b[0m]    │\n",
              "│ (\u001b[38;5;33mTransformer_Encod…\u001b[0m │                   │            │                   │\n",
              "├─────────────────────┼───────────────────┼────────────┼───────────────────┤\n",
              "│ encoder2            │ (\u001b[38;5;45mNone\u001b[0m, \u001b[38;5;34m30\u001b[0m, \u001b[38;5;34m32\u001b[0m)    │     \u001b[38;5;34m25,280\u001b[0m │ encoder1[\u001b[38;5;34m0\u001b[0m][\u001b[38;5;34m0\u001b[0m]    │\n",
              "│ (\u001b[38;5;33mTransformer_Encod…\u001b[0m │                   │            │                   │\n",
              "├─────────────────────┼───────────────────┼────────────┼───────────────────┤\n",
              "│ decoder0            │ (\u001b[38;5;45mNone\u001b[0m, \u001b[38;5;34m30\u001b[0m, \u001b[38;5;34m32\u001b[0m)    │     \u001b[38;5;34m42,144\u001b[0m │ embedding[\u001b[38;5;34m1\u001b[0m][\u001b[38;5;34m0\u001b[0m],  │\n",
              "│ (\u001b[38;5;33mTransformer_Decod…\u001b[0m │                   │            │ encoder2[\u001b[38;5;34m0\u001b[0m][\u001b[38;5;34m0\u001b[0m]    │\n",
              "├─────────────────────┼───────────────────┼────────────┼───────────────────┤\n",
              "│ decoder1            │ (\u001b[38;5;45mNone\u001b[0m, \u001b[38;5;34m30\u001b[0m, \u001b[38;5;34m32\u001b[0m)    │     \u001b[38;5;34m42,144\u001b[0m │ decoder0[\u001b[38;5;34m0\u001b[0m][\u001b[38;5;34m0\u001b[0m],   │\n",
              "│ (\u001b[38;5;33mTransformer_Decod…\u001b[0m │                   │            │ encoder2[\u001b[38;5;34m0\u001b[0m][\u001b[38;5;34m0\u001b[0m]    │\n",
              "├─────────────────────┼───────────────────┼────────────┼───────────────────┤\n",
              "│ decoder2            │ (\u001b[38;5;45mNone\u001b[0m, \u001b[38;5;34m30\u001b[0m, \u001b[38;5;34m32\u001b[0m)    │     \u001b[38;5;34m42,144\u001b[0m │ decoder1[\u001b[38;5;34m0\u001b[0m][\u001b[38;5;34m0\u001b[0m],   │\n",
              "│ (\u001b[38;5;33mTransformer_Decod…\u001b[0m │                   │            │ encoder2[\u001b[38;5;34m0\u001b[0m][\u001b[38;5;34m0\u001b[0m]    │\n",
              "├─────────────────────┼───────────────────┼────────────┼───────────────────┤\n",
              "│ softmax (\u001b[38;5;33mDense\u001b[0m)     │ (\u001b[38;5;45mNone\u001b[0m, \u001b[38;5;34m30\u001b[0m, \u001b[38;5;34m15\u001b[0m)    │        \u001b[38;5;34m495\u001b[0m │ decoder2[\u001b[38;5;34m0\u001b[0m][\u001b[38;5;34m0\u001b[0m]    │\n",
              "└─────────────────────┴───────────────────┴────────────┴───────────────────┘\n"
            ],
            "text/html": [
              "<pre style=\"white-space:pre;overflow-x:auto;line-height:normal;font-family:Menlo,'DejaVu Sans Mono',consolas,'Courier New',monospace\">┏━━━━━━━━━━━━━━━━━━━━━┳━━━━━━━━━━━━━━━━━━━┳━━━━━━━━━━━━┳━━━━━━━━━━━━━━━━━━━┓\n",
              "┃<span style=\"font-weight: bold\"> Layer (type)        </span>┃<span style=\"font-weight: bold\"> Output Shape      </span>┃<span style=\"font-weight: bold\">    Param # </span>┃<span style=\"font-weight: bold\"> Connected to      </span>┃\n",
              "┡━━━━━━━━━━━━━━━━━━━━━╇━━━━━━━━━━━━━━━━━━━╇━━━━━━━━━━━━╇━━━━━━━━━━━━━━━━━━━┩\n",
              "│ decoder-in          │ (<span style=\"color: #00d7ff; text-decoration-color: #00d7ff\">None</span>, <span style=\"color: #00af00; text-decoration-color: #00af00\">30</span>)        │          <span style=\"color: #00af00; text-decoration-color: #00af00\">0</span> │ -                 │\n",
              "│ (<span style=\"color: #0087ff; text-decoration-color: #0087ff\">InputLayer</span>)        │                   │            │                   │\n",
              "├─────────────────────┼───────────────────┼────────────┼───────────────────┤\n",
              "│ encoder-in          │ (<span style=\"color: #00d7ff; text-decoration-color: #00d7ff\">None</span>, <span style=\"color: #00af00; text-decoration-color: #00af00\">30</span>)        │          <span style=\"color: #00af00; text-decoration-color: #00af00\">0</span> │ -                 │\n",
              "│ (<span style=\"color: #0087ff; text-decoration-color: #0087ff\">InputLayer</span>)        │                   │            │                   │\n",
              "├─────────────────────┼───────────────────┼────────────┼───────────────────┤\n",
              "│ embedding           │ (<span style=\"color: #00d7ff; text-decoration-color: #00d7ff\">None</span>, <span style=\"color: #00af00; text-decoration-color: #00af00\">30</span>, <span style=\"color: #00af00; text-decoration-color: #00af00\">32</span>)    │        <span style=\"color: #00af00; text-decoration-color: #00af00\">480</span> │ encoder-in[<span style=\"color: #00af00; text-decoration-color: #00af00\">0</span>][<span style=\"color: #00af00; text-decoration-color: #00af00\">0</span>], │\n",
              "│ (<span style=\"color: #0087ff; text-decoration-color: #0087ff\">Token_Position_Em…</span> │                   │            │ decoder-in[<span style=\"color: #00af00; text-decoration-color: #00af00\">0</span>][<span style=\"color: #00af00; text-decoration-color: #00af00\">0</span>]  │\n",
              "├─────────────────────┼───────────────────┼────────────┼───────────────────┤\n",
              "│ encoder0            │ (<span style=\"color: #00d7ff; text-decoration-color: #00d7ff\">None</span>, <span style=\"color: #00af00; text-decoration-color: #00af00\">30</span>, <span style=\"color: #00af00; text-decoration-color: #00af00\">32</span>)    │     <span style=\"color: #00af00; text-decoration-color: #00af00\">25,280</span> │ embedding[<span style=\"color: #00af00; text-decoration-color: #00af00\">0</span>][<span style=\"color: #00af00; text-decoration-color: #00af00\">0</span>]   │\n",
              "│ (<span style=\"color: #0087ff; text-decoration-color: #0087ff\">Transformer_Encod…</span> │                   │            │                   │\n",
              "├─────────────────────┼───────────────────┼────────────┼───────────────────┤\n",
              "│ encoder1            │ (<span style=\"color: #00d7ff; text-decoration-color: #00d7ff\">None</span>, <span style=\"color: #00af00; text-decoration-color: #00af00\">30</span>, <span style=\"color: #00af00; text-decoration-color: #00af00\">32</span>)    │     <span style=\"color: #00af00; text-decoration-color: #00af00\">25,280</span> │ encoder0[<span style=\"color: #00af00; text-decoration-color: #00af00\">0</span>][<span style=\"color: #00af00; text-decoration-color: #00af00\">0</span>]    │\n",
              "│ (<span style=\"color: #0087ff; text-decoration-color: #0087ff\">Transformer_Encod…</span> │                   │            │                   │\n",
              "├─────────────────────┼───────────────────┼────────────┼───────────────────┤\n",
              "│ encoder2            │ (<span style=\"color: #00d7ff; text-decoration-color: #00d7ff\">None</span>, <span style=\"color: #00af00; text-decoration-color: #00af00\">30</span>, <span style=\"color: #00af00; text-decoration-color: #00af00\">32</span>)    │     <span style=\"color: #00af00; text-decoration-color: #00af00\">25,280</span> │ encoder1[<span style=\"color: #00af00; text-decoration-color: #00af00\">0</span>][<span style=\"color: #00af00; text-decoration-color: #00af00\">0</span>]    │\n",
              "│ (<span style=\"color: #0087ff; text-decoration-color: #0087ff\">Transformer_Encod…</span> │                   │            │                   │\n",
              "├─────────────────────┼───────────────────┼────────────┼───────────────────┤\n",
              "│ decoder0            │ (<span style=\"color: #00d7ff; text-decoration-color: #00d7ff\">None</span>, <span style=\"color: #00af00; text-decoration-color: #00af00\">30</span>, <span style=\"color: #00af00; text-decoration-color: #00af00\">32</span>)    │     <span style=\"color: #00af00; text-decoration-color: #00af00\">42,144</span> │ embedding[<span style=\"color: #00af00; text-decoration-color: #00af00\">1</span>][<span style=\"color: #00af00; text-decoration-color: #00af00\">0</span>],  │\n",
              "│ (<span style=\"color: #0087ff; text-decoration-color: #0087ff\">Transformer_Decod…</span> │                   │            │ encoder2[<span style=\"color: #00af00; text-decoration-color: #00af00\">0</span>][<span style=\"color: #00af00; text-decoration-color: #00af00\">0</span>]    │\n",
              "├─────────────────────┼───────────────────┼────────────┼───────────────────┤\n",
              "│ decoder1            │ (<span style=\"color: #00d7ff; text-decoration-color: #00d7ff\">None</span>, <span style=\"color: #00af00; text-decoration-color: #00af00\">30</span>, <span style=\"color: #00af00; text-decoration-color: #00af00\">32</span>)    │     <span style=\"color: #00af00; text-decoration-color: #00af00\">42,144</span> │ decoder0[<span style=\"color: #00af00; text-decoration-color: #00af00\">0</span>][<span style=\"color: #00af00; text-decoration-color: #00af00\">0</span>],   │\n",
              "│ (<span style=\"color: #0087ff; text-decoration-color: #0087ff\">Transformer_Decod…</span> │                   │            │ encoder2[<span style=\"color: #00af00; text-decoration-color: #00af00\">0</span>][<span style=\"color: #00af00; text-decoration-color: #00af00\">0</span>]    │\n",
              "├─────────────────────┼───────────────────┼────────────┼───────────────────┤\n",
              "│ decoder2            │ (<span style=\"color: #00d7ff; text-decoration-color: #00d7ff\">None</span>, <span style=\"color: #00af00; text-decoration-color: #00af00\">30</span>, <span style=\"color: #00af00; text-decoration-color: #00af00\">32</span>)    │     <span style=\"color: #00af00; text-decoration-color: #00af00\">42,144</span> │ decoder1[<span style=\"color: #00af00; text-decoration-color: #00af00\">0</span>][<span style=\"color: #00af00; text-decoration-color: #00af00\">0</span>],   │\n",
              "│ (<span style=\"color: #0087ff; text-decoration-color: #0087ff\">Transformer_Decod…</span> │                   │            │ encoder2[<span style=\"color: #00af00; text-decoration-color: #00af00\">0</span>][<span style=\"color: #00af00; text-decoration-color: #00af00\">0</span>]    │\n",
              "├─────────────────────┼───────────────────┼────────────┼───────────────────┤\n",
              "│ softmax (<span style=\"color: #0087ff; text-decoration-color: #0087ff\">Dense</span>)     │ (<span style=\"color: #00d7ff; text-decoration-color: #00d7ff\">None</span>, <span style=\"color: #00af00; text-decoration-color: #00af00\">30</span>, <span style=\"color: #00af00; text-decoration-color: #00af00\">15</span>)    │        <span style=\"color: #00af00; text-decoration-color: #00af00\">495</span> │ decoder2[<span style=\"color: #00af00; text-decoration-color: #00af00\">0</span>][<span style=\"color: #00af00; text-decoration-color: #00af00\">0</span>]    │\n",
              "└─────────────────────┴───────────────────┴────────────┴───────────────────┘\n",
              "</pre>\n"
            ]
          },
          "metadata": {}
        },
        {
          "output_type": "display_data",
          "data": {
            "text/plain": [
              "\u001b[1m Total params: \u001b[0m\u001b[38;5;34m203,247\u001b[0m (793.93 KB)\n"
            ],
            "text/html": [
              "<pre style=\"white-space:pre;overflow-x:auto;line-height:normal;font-family:Menlo,'DejaVu Sans Mono',consolas,'Courier New',monospace\"><span style=\"font-weight: bold\"> Total params: </span><span style=\"color: #00af00; text-decoration-color: #00af00\">203,247</span> (793.93 KB)\n",
              "</pre>\n"
            ]
          },
          "metadata": {}
        },
        {
          "output_type": "display_data",
          "data": {
            "text/plain": [
              "\u001b[1m Trainable params: \u001b[0m\u001b[38;5;34m203,247\u001b[0m (793.93 KB)\n"
            ],
            "text/html": [
              "<pre style=\"white-space:pre;overflow-x:auto;line-height:normal;font-family:Menlo,'DejaVu Sans Mono',consolas,'Courier New',monospace\"><span style=\"font-weight: bold\"> Trainable params: </span><span style=\"color: #00af00; text-decoration-color: #00af00\">203,247</span> (793.93 KB)\n",
              "</pre>\n"
            ]
          },
          "metadata": {}
        },
        {
          "output_type": "display_data",
          "data": {
            "text/plain": [
              "\u001b[1m Non-trainable params: \u001b[0m\u001b[38;5;34m0\u001b[0m (0.00 B)\n"
            ],
            "text/html": [
              "<pre style=\"white-space:pre;overflow-x:auto;line-height:normal;font-family:Menlo,'DejaVu Sans Mono',consolas,'Courier New',monospace\"><span style=\"font-weight: bold\"> Non-trainable params: </span><span style=\"color: #00af00; text-decoration-color: #00af00\">0</span> (0.00 B)\n",
              "</pre>\n"
            ]
          },
          "metadata": {}
        }
      ]
    },
    {
      "cell_type": "markdown",
      "source": [
        "### Custom loss and accuracy definition"
      ],
      "metadata": {
        "id": "9QeIwNLMaA94"
      }
    },
    {
      "cell_type": "code",
      "source": [
        "# ---Loss and accuracy custom functions---\n",
        "loss=tf.keras.losses.SparseCategoricalCrossentropy(from_logits=False,reduction='none')\n",
        "\n",
        "#loss and accuracy built to ignore empty pad sequences\n",
        "def masked_loss(y_true, y_pred):\n",
        "    loss_1 = loss(y_true, y_pred)\n",
        "    mask = tf.cast(tf.not_equal(y_true, PAD_ID), loss_1.dtype)\n",
        "    loss_1 *= mask\n",
        "    return tf.reduce_sum(loss_1) / tf.reduce_sum(mask)\n",
        "\n",
        "def masked_accuracy(y_true,y_pred):\n",
        "    y_preds_ids=  tf.argmax(y_pred,axis=-1,output_type=y_true.dtype  )\n",
        "    matches=tf.cast(tf.equal(y_true,y_preds_ids),tf.float32)\n",
        "    mask=tf.cast(tf.not_equal(y_true,PAD_ID),tf.float32 )\n",
        "    matches*=mask\n",
        "    return tf.reduce_sum(matches)/tf.reduce_sum(mask)"
      ],
      "metadata": {
        "id": "stNnPabm2R6_"
      },
      "execution_count": null,
      "outputs": []
    },
    {
      "cell_type": "markdown",
      "source": [
        "### Autoregressive decode\n",
        "This function output the postfix formula asking each time the model to predict the next token based on the already predicted ones."
      ],
      "metadata": {
        "id": "-eHHQBrUaHyl"
      }
    },
    {
      "cell_type": "code",
      "source": [
        "# used only during generation in evaluation and in callback to see model prediction\n",
        "def autoregressive_decode(model, encoder_input, max_len=MAX_LEN):\n",
        "    \"\"\"\n",
        "    I apply a Greedy decoding\n",
        "    \"\"\"\n",
        "    enc_in= encoder_input.reshape(1, -1)\n",
        "    dec_in= np.full((1, max_len), PAD_ID, dtype=np.int32)\n",
        "    dec_in[0,0]=SOS_ID\n",
        "\n",
        "    for t in range(1, max_len):\n",
        "        preds      =   model.predict([enc_in, dec_in], verbose=0)\n",
        "        next_id    =   int(np.argmax(preds[0, t-1]))\n",
        "        dec_in[0, t] = next_id\n",
        "        if next_id ==  EOS_ID:\n",
        "            break\n",
        "    return dec_in[0]"
      ],
      "metadata": {
        "id": "R0DOy_5U_NJZ"
      },
      "execution_count": null,
      "outputs": []
    },
    {
      "cell_type": "markdown",
      "source": [
        "### Custom callback\n",
        "To see formula prediction during training."
      ],
      "metadata": {
        "id": "VuaI4fRfaOpp"
      }
    },
    {
      "cell_type": "code",
      "source": [
        "class Custom_Callback(tf.keras.callbacks.Callback):\n",
        "    \"\"\"\n",
        "    This custom callback periodically evaluates the model by generating a small test\n",
        "    \"\"\"\n",
        "    def __init__(self, every_n_epochs=5,n_examples=4,max_depth=MAX_DEPTH):\n",
        "        super().__init__()\n",
        "        self.every_n_epochs= every_n_epochs\n",
        "        self.n_examples =n_examples\n",
        "        self.max_depth =max_depth\n",
        "\n",
        "    def on_epoch_end(self, epoch, logs=None):\n",
        "        if (epoch % self.every_n_epochs==0)or(epoch==0):\n",
        "            X_test,Y_test= generate_dataset(self.n_examples, self.max_depth)\n",
        "            print(\"\\n\"+\"=\"*60 )\n",
        "            print(f\"Predictions at epoch {epoch + 1}\")\n",
        "            print(\"=\"*60 )\n",
        "            for i in range(self.n_examples):\n",
        "                x = X_test[i]\n",
        "                y = Y_test[i]\n",
        "                y_pred_ids = autoregressive_decode(self.model, x)[1:]  # remove SOS\n",
        "\n",
        "                infix   =decode_sequence(x, id_to_token)\n",
        "                target  =decode_sequence(y, id_to_token)\n",
        "                pred    =decode_sequence(y_pred_ids, id_to_token)\n",
        "                acc     =prefix_accuracy_single(y, y_pred_ids, id_to_token)\n",
        "\n",
        "                print(f\"Infix : {infix}\")\n",
        "                print(f\"Target: {target}\")\n",
        "                print(f\"Predicted: {pred}   | prefix acc = {acc:.2f}\")\n",
        "                print(\"-\" * 60)\n",
        "            print(\"=\" * 60 +\"\\n\")\n"
      ],
      "metadata": {
        "id": "xpWlH3SN-css"
      },
      "execution_count": null,
      "outputs": []
    },
    {
      "cell_type": "markdown",
      "source": [
        "### Loading and training\n",
        "Here we compile and train the model (or reuse past weights), the dimensions are kept low but sufficient to get a good score and loss."
      ],
      "metadata": {
        "id": "8fdsEb7ebSPg"
      }
    },
    {
      "cell_type": "code",
      "source": [
        "def load_or_train_model(\n",
        "    file_path:str=\"infix2postfix.weights.h5\",\n",
        "    retrain:bool=True,\n",
        ") -> tuple[keras.Model,keras.callbacks.History|None]:\n",
        "\n",
        "    #if the file exists, load the old model weights\n",
        "    if os.path.exists(file_path) and not retrain:\n",
        "        # Re-create the same model architecture\n",
        "        model = InfixToPostfixTransformer(\n",
        "            d_model=32,\n",
        "            num_encoders=3,\n",
        "            encoder_attention_heads=4,\n",
        "            encoder_ff_dim=128,\n",
        "            num_decoders=3,\n",
        "            decoder_attention_heads=4,\n",
        "            decoder_ff_dim=128,\n",
        "        )\n",
        "        model.compile(\n",
        "            optimizer=keras.optimizers.Adam(1e-3),\n",
        "            loss=masked_loss,\n",
        "            metrics=[masked_accuracy]\n",
        "        )\n",
        "        # I initialize a dummy model to load weights\n",
        "        dummy_encod= tf.zeros((1,MAX_LEN),dtype=tf.int32)\n",
        "        dummy_decod= tf.zeros((1,MAX_LEN),dtype=tf.int32)\n",
        "        _ =model([dummy_encod,dummy_decod])\n",
        "\n",
        "        # Here i load the actual weights\n",
        "        model.load_weights(file_path)\n",
        "        print(f\"Loaded weights from {file_path}\")\n",
        "        model.summary()\n",
        "        return model,None\n",
        "\n",
        "    # Build and train a new model --> retrain is true\n",
        "    print(\"\\n Building and training the new model\")\n",
        "    model = InfixToPostfixTransformer(\n",
        "        d_model=32,\n",
        "        num_encoders=3,\n",
        "        encoder_attention_heads=4,\n",
        "        encoder_ff_dim=128,\n",
        "        num_decoders=3,\n",
        "        decoder_attention_heads=4,\n",
        "        decoder_ff_dim=128,\n",
        "    )\n",
        "    model.compile(\n",
        "        optimizer=keras.optimizers.Adam(1e-3),\n",
        "        loss=masked_loss,\n",
        "        metrics=[masked_accuracy]\n",
        "    )\n",
        "\n",
        "    #hyperparameters\n",
        "    BATCH_SIZE=64\n",
        "    EPOCHS=20\n",
        "\n",
        "    #data preparation\n",
        "    train_ds=tf.data.Dataset.from_tensor_slices(((X_train, decoder_input_train), Y_train)).shuffle(10_000).batch(BATCH_SIZE).prefetch(tf.data.AUTOTUNE)\n",
        "    val_ds=tf.data.Dataset.from_tensor_slices(((X_val, decoder_input_val), Y_val)).batch(BATCH_SIZE).prefetch(tf.data.AUTOTUNE)\n",
        "\n",
        "    #training the new model\n",
        "    history = model.fit(\n",
        "        train_ds,\n",
        "        validation_data=val_ds,\n",
        "        epochs=EPOCHS,\n",
        "        callbacks=[\n",
        "            keras.callbacks.EarlyStopping(monitor=\"val_loss\",patience=5), #after 5 epochs of no improvements, the training stops\n",
        "            Custom_Callback(every_n_epochs=5,n_examples=4)\n",
        "        ]\n",
        "    )\n",
        "    #from google.colab import drive\n",
        "    #drive.mount('/content/drive',force_remount=True)\n",
        "    #drive_weights_path = \"/content/drive/MyDrive/infix2postfix.weights.h5\"\n",
        "    #\n",
        "    #model.save_weights(drive_weights_path)\n",
        "    #print(f\"Weights also saved to Google Drive: {drive_weights_path}\")\n",
        "\n",
        "    # Saving the weights locally\n",
        "    model.save_weights(file_path)\n",
        "    print(f\"\\nWeights saved to {file_path}\")\n",
        "\n",
        "    return model, history"
      ],
      "metadata": {
        "id": "hKhyJ6D6m4HR"
      },
      "execution_count": null,
      "outputs": []
    },
    {
      "cell_type": "code",
      "source": [
        "def plot_training_history(history: keras.callbacks.History | None) -> None:\n",
        "    \"\"\"\n",
        "    Function to plot the custom loss and accuracy history during the training\n",
        "    \"\"\"\n",
        "    if history is None:\n",
        "        print(\"Train the model to see actual history\")\n",
        "        return\n",
        "\n",
        "    # Plot the Custom Loss\n",
        "    plt.figure()\n",
        "    plt.plot(history.history['loss'],label='Training Loss')\n",
        "    plt.plot(history.history['val_loss'],  label='Validation Loss')\n",
        "    plt.xlabel('Epoch')\n",
        "    plt.ylabel('Loss')\n",
        "    plt.title('Training and Validation Loss')\n",
        "    plt.legend()\n",
        "    plt.show()\n",
        "\n",
        "    # Plot the Custom Accuracy\n",
        "    plt.figure()\n",
        "    plt.plot(history.history['masked_accuracy'], label='Training Masked Accuracy')\n",
        "    plt.plot(history.history['val_masked_accuracy'], label='Validation Masked Accuracy')\n",
        "    plt.xlabel('Epoch')\n",
        "    plt.ylabel('Masked Accuracy')\n",
        "    plt.title('Training and Validation Masked Accuracy')\n",
        "    plt.legend()\n",
        "    plt.show()\n"
      ],
      "metadata": {
        "id": "3BQiKi5eulia"
      },
      "execution_count": null,
      "outputs": []
    },
    {
      "cell_type": "markdown",
      "source": [
        "### Model Training"
      ],
      "metadata": {
        "id": "4961P_fdX1Ki"
      }
    },
    {
      "cell_type": "code",
      "source": [
        "model,history=load_or_train_model(file_path=\"infix2postfix.weights.h5\",retrain=True)"
      ],
      "metadata": {
        "colab": {
          "base_uri": "https://localhost:8080/"
        },
        "id": "hu7c0mvGupYR",
        "outputId": "957a1053-9084-4294-c252-b81b0e068a31"
      },
      "execution_count": null,
      "outputs": [
        {
          "output_type": "stream",
          "name": "stdout",
          "text": [
            "\n",
            " Building and training the new model\n",
            "Epoch 1/20\n",
            "\u001b[1m188/188\u001b[0m \u001b[32m━━━━━━━━━━━━━━━━━━━━\u001b[0m\u001b[37m\u001b[0m \u001b[1m0s\u001b[0m 99ms/step - loss: 2.0853 - masked_accuracy: 0.2256\n",
            "============================================================\n",
            "Predictions at epoch 1\n",
            "============================================================\n",
            "Infix : ( ( c / e ) - ( c + ( e * b ) ) )\n",
            "Target: c e / c e b * + -\n",
            "Predicted: e e / e c c / /   | prefix acc = 0.22\n",
            "------------------------------------------------------------\n",
            "Infix : ( d * d )\n",
            "Target: d d *\n",
            "Predicted: d d /   | prefix acc = 0.67\n",
            "------------------------------------------------------------\n",
            "Infix : ( ( ( b / a ) - a ) * ( d - a ) )\n",
            "Target: b a / a - d a - *\n",
            "Predicted: a a * a a a * *   | prefix acc = 0.22\n",
            "------------------------------------------------------------\n",
            "Infix : ( ( ( a * c ) - d ) - c )\n",
            "Target: a c * d - c -\n",
            "Predicted: a a a * a *   | prefix acc = 0.14\n",
            "------------------------------------------------------------\n",
            "============================================================\n",
            "\n",
            "\u001b[1m188/188\u001b[0m \u001b[32m━━━━━━━━━━━━━━━━━━━━\u001b[0m\u001b[37m\u001b[0m \u001b[1m69s\u001b[0m 147ms/step - loss: 2.0836 - masked_accuracy: 0.2259 - val_loss: 1.5207 - val_masked_accuracy: 0.3993\n",
            "Epoch 2/20\n",
            "\u001b[1m188/188\u001b[0m \u001b[32m━━━━━━━━━━━━━━━━━━━━\u001b[0m\u001b[37m\u001b[0m \u001b[1m3s\u001b[0m 16ms/step - loss: 1.0791 - masked_accuracy: 0.5749 - val_loss: 0.1763 - val_masked_accuracy: 0.9447\n",
            "Epoch 3/20\n",
            "\u001b[1m188/188\u001b[0m \u001b[32m━━━━━━━━━━━━━━━━━━━━\u001b[0m\u001b[37m\u001b[0m \u001b[1m4s\u001b[0m 13ms/step - loss: 0.2093 - masked_accuracy: 0.9316 - val_loss: 0.0426 - val_masked_accuracy: 0.9874\n",
            "Epoch 4/20\n",
            "\u001b[1m188/188\u001b[0m \u001b[32m━━━━━━━━━━━━━━━━━━━━\u001b[0m\u001b[37m\u001b[0m \u001b[1m2s\u001b[0m 12ms/step - loss: 0.0906 - masked_accuracy: 0.9721 - val_loss: 0.0344 - val_masked_accuracy: 0.9886\n",
            "Epoch 5/20\n",
            "\u001b[1m188/188\u001b[0m \u001b[32m━━━━━━━━━━━━━━━━━━━━\u001b[0m\u001b[37m\u001b[0m \u001b[1m2s\u001b[0m 12ms/step - loss: 0.0720 - masked_accuracy: 0.9762 - val_loss: 0.0125 - val_masked_accuracy: 0.9961\n",
            "Epoch 6/20\n",
            "\u001b[1m185/188\u001b[0m \u001b[32m━━━━━━━━━━━━━━━━━━━\u001b[0m\u001b[37m━\u001b[0m \u001b[1m0s\u001b[0m 12ms/step - loss: 0.0334 - masked_accuracy: 0.9898\n",
            "============================================================\n",
            "Predictions at epoch 6\n",
            "============================================================\n",
            "Infix : d\n",
            "Target: d\n",
            "Predicted: d   | prefix acc = 1.00\n",
            "------------------------------------------------------------\n",
            "Infix : d\n",
            "Target: d\n",
            "Predicted: d   | prefix acc = 1.00\n",
            "------------------------------------------------------------\n",
            "Infix : ( c * ( ( c * d ) + a ) )\n",
            "Target: c c d * a + *\n",
            "Predicted: c c d * a + *   | prefix acc = 1.00\n",
            "------------------------------------------------------------\n",
            "Infix : d\n",
            "Target: d\n",
            "Predicted: d   | prefix acc = 1.00\n",
            "------------------------------------------------------------\n",
            "============================================================\n",
            "\n",
            "\u001b[1m188/188\u001b[0m \u001b[32m━━━━━━━━━━━━━━━━━━━━\u001b[0m\u001b[37m\u001b[0m \u001b[1m4s\u001b[0m 22ms/step - loss: 0.0334 - masked_accuracy: 0.9898 - val_loss: 0.0151 - val_masked_accuracy: 0.9950\n",
            "Epoch 7/20\n",
            "\u001b[1m188/188\u001b[0m \u001b[32m━━━━━━━━━━━━━━━━━━━━\u001b[0m\u001b[37m\u001b[0m \u001b[1m2s\u001b[0m 13ms/step - loss: 0.0467 - masked_accuracy: 0.9864 - val_loss: 0.0024 - val_masked_accuracy: 0.9998\n",
            "Epoch 8/20\n",
            "\u001b[1m188/188\u001b[0m \u001b[32m━━━━━━━━━━━━━━━━━━━━\u001b[0m\u001b[37m\u001b[0m \u001b[1m2s\u001b[0m 12ms/step - loss: 0.0220 - masked_accuracy: 0.9933 - val_loss: 0.0011 - val_masked_accuracy: 1.0000\n",
            "Epoch 9/20\n",
            "\u001b[1m188/188\u001b[0m \u001b[32m━━━━━━━━━━━━━━━━━━━━\u001b[0m\u001b[37m\u001b[0m \u001b[1m2s\u001b[0m 12ms/step - loss: 0.0182 - masked_accuracy: 0.9948 - val_loss: 0.0030 - val_masked_accuracy: 0.9991\n",
            "Epoch 10/20\n",
            "\u001b[1m188/188\u001b[0m \u001b[32m━━━━━━━━━━━━━━━━━━━━\u001b[0m\u001b[37m\u001b[0m \u001b[1m2s\u001b[0m 12ms/step - loss: 0.0196 - masked_accuracy: 0.9945 - val_loss: 0.0027 - val_masked_accuracy: 0.9993\n",
            "Epoch 11/20\n",
            "\u001b[1m186/188\u001b[0m \u001b[32m━━━━━━━━━━━━━━━━━━━\u001b[0m\u001b[37m━\u001b[0m \u001b[1m0s\u001b[0m 13ms/step - loss: 0.0300 - masked_accuracy: 0.9915\n",
            "============================================================\n",
            "Predictions at epoch 11\n",
            "============================================================\n",
            "Infix : ( ( ( a / e ) + d ) + ( d * a ) )\n",
            "Target: a e / d + d a * +\n",
            "Predicted: a e / d + d a * +   | prefix acc = 1.00\n",
            "------------------------------------------------------------\n",
            "Infix : ( ( b - e ) / c )\n",
            "Target: b e - c /\n",
            "Predicted: b e - c /   | prefix acc = 1.00\n",
            "------------------------------------------------------------\n",
            "Infix : ( ( b / ( d * a ) ) - ( c * e ) )\n",
            "Target: b d a * / c e * -\n",
            "Predicted: b d a * / c e * -   | prefix acc = 1.00\n",
            "------------------------------------------------------------\n",
            "Infix : ( e / ( e + e ) )\n",
            "Target: e e e + /\n",
            "Predicted: e e e + /   | prefix acc = 1.00\n",
            "------------------------------------------------------------\n",
            "============================================================\n",
            "\n",
            "\u001b[1m188/188\u001b[0m \u001b[32m━━━━━━━━━━━━━━━━━━━━\u001b[0m\u001b[37m\u001b[0m \u001b[1m5s\u001b[0m 28ms/step - loss: 0.0300 - masked_accuracy: 0.9915 - val_loss: 0.0012 - val_masked_accuracy: 0.9997\n",
            "Epoch 12/20\n",
            "\u001b[1m188/188\u001b[0m \u001b[32m━━━━━━━━━━━━━━━━━━━━\u001b[0m\u001b[37m\u001b[0m \u001b[1m2s\u001b[0m 13ms/step - loss: 0.0081 - masked_accuracy: 0.9977 - val_loss: 4.3110e-04 - val_masked_accuracy: 1.0000\n",
            "Epoch 13/20\n",
            "\u001b[1m188/188\u001b[0m \u001b[32m━━━━━━━━━━━━━━━━━━━━\u001b[0m\u001b[37m\u001b[0m \u001b[1m2s\u001b[0m 12ms/step - loss: 0.0098 - masked_accuracy: 0.9972 - val_loss: 3.9872e-04 - val_masked_accuracy: 1.0000\n",
            "Epoch 14/20\n",
            "\u001b[1m188/188\u001b[0m \u001b[32m━━━━━━━━━━━━━━━━━━━━\u001b[0m\u001b[37m\u001b[0m \u001b[1m2s\u001b[0m 12ms/step - loss: 0.0080 - masked_accuracy: 0.9979 - val_loss: 3.8134e-04 - val_masked_accuracy: 1.0000\n",
            "Epoch 15/20\n",
            "\u001b[1m188/188\u001b[0m \u001b[32m━━━━━━━━━━━━━━━━━━━━\u001b[0m\u001b[37m\u001b[0m \u001b[1m3s\u001b[0m 14ms/step - loss: 0.0173 - masked_accuracy: 0.9953 - val_loss: 2.7459e-04 - val_masked_accuracy: 1.0000\n",
            "Epoch 16/20\n",
            "\u001b[1m187/188\u001b[0m \u001b[32m━━━━━━━━━━━━━━━━━━━\u001b[0m\u001b[37m━\u001b[0m \u001b[1m0s\u001b[0m 13ms/step - loss: 0.0167 - masked_accuracy: 0.9953\n",
            "============================================================\n",
            "Predictions at epoch 16\n",
            "============================================================\n",
            "Infix : ( ( ( d - e ) / ( a / d ) ) + ( ( b / c ) - ( c / e ) ) )\n",
            "Target: d e - a d / / b c / c e / - +\n",
            "Predicted: d e - a d / / b c / c e / - +   | prefix acc = 1.00\n",
            "------------------------------------------------------------\n",
            "Infix : ( ( e / d ) - d )\n",
            "Target: e d / d -\n",
            "Predicted: e d / d -   | prefix acc = 1.00\n",
            "------------------------------------------------------------\n",
            "Infix : b\n",
            "Target: b\n",
            "Predicted: b   | prefix acc = 1.00\n",
            "------------------------------------------------------------\n",
            "Infix : ( a * b )\n",
            "Target: a b *\n",
            "Predicted: a b *   | prefix acc = 1.00\n",
            "------------------------------------------------------------\n",
            "============================================================\n",
            "\n",
            "\u001b[1m188/188\u001b[0m \u001b[32m━━━━━━━━━━━━━━━━━━━━\u001b[0m\u001b[37m\u001b[0m \u001b[1m7s\u001b[0m 24ms/step - loss: 0.0167 - masked_accuracy: 0.9953 - val_loss: 0.0011 - val_masked_accuracy: 0.9998\n",
            "Epoch 17/20\n",
            "\u001b[1m188/188\u001b[0m \u001b[32m━━━━━━━━━━━━━━━━━━━━\u001b[0m\u001b[37m\u001b[0m \u001b[1m3s\u001b[0m 13ms/step - loss: 0.0090 - masked_accuracy: 0.9974 - val_loss: 0.0287 - val_masked_accuracy: 0.9931\n",
            "Epoch 18/20\n",
            "\u001b[1m188/188\u001b[0m \u001b[32m━━━━━━━━━━━━━━━━━━━━\u001b[0m\u001b[37m\u001b[0m \u001b[1m3s\u001b[0m 14ms/step - loss: 0.0225 - masked_accuracy: 0.9936 - val_loss: 3.3025e-04 - val_masked_accuracy: 1.0000\n",
            "Epoch 19/20\n",
            "\u001b[1m188/188\u001b[0m \u001b[32m━━━━━━━━━━━━━━━━━━━━\u001b[0m\u001b[37m\u001b[0m \u001b[1m5s\u001b[0m 13ms/step - loss: 0.0088 - masked_accuracy: 0.9975 - val_loss: 0.0088 - val_masked_accuracy: 0.9959\n",
            "Epoch 20/20\n",
            "\u001b[1m188/188\u001b[0m \u001b[32m━━━━━━━━━━━━━━━━━━━━\u001b[0m\u001b[37m\u001b[0m \u001b[1m2s\u001b[0m 12ms/step - loss: 0.0157 - masked_accuracy: 0.9957 - val_loss: 3.3491e-04 - val_masked_accuracy: 1.0000\n",
            "\n",
            "Weights saved to infix2postfix.weights.h5\n"
          ]
        }
      ]
    },
    {
      "cell_type": "markdown",
      "source": [
        "### Plot of the training history"
      ],
      "metadata": {
        "id": "UhjW3NO2ovkg"
      }
    },
    {
      "cell_type": "code",
      "source": [
        "plot_training_history(history)"
      ],
      "metadata": {
        "colab": {
          "base_uri": "https://localhost:8080/",
          "height": 927
        },
        "id": "fG7qeqeq7YJt",
        "outputId": "5b0f4c10-3a13-40f9-cd8b-ca70c9699899"
      },
      "execution_count": null,
      "outputs": [
        {
          "output_type": "display_data",
          "data": {
            "text/plain": [
              "<Figure size 640x480 with 1 Axes>"
            ],
            "image/png": "[encoded data removed]"
          },
          "metadata": {}
        },
        {
          "output_type": "display_data",
          "data": {
            "text/plain": [
              "<Figure size 640x480 with 1 Axes>"
            ],
            "image/png": "[encoded data removed]"
          },
          "metadata": {}
        }
      ]
    },
    {
      "cell_type": "markdown",
      "source": [
        "### Model testing\n",
        "Using the prescribed generator of all sizes from 0 to 3"
      ],
      "metadata": {
        "id": "GWKFgDeRX9Pv"
      }
    },
    {
      "cell_type": "code",
      "source": [
        "#---Testing the model---\n",
        "def test(no=20,rounds=10):\n",
        "  rscores =[]\n",
        "  for i in range(rounds):\n",
        "    print(\"round=\",i)\n",
        "    X_test, Y_test = generate_dataset(no)\n",
        "    scores = []\n",
        "    for j in range(no):\n",
        "      encoder_input=X_test[j]\n",
        "      generated = autoregressive_decode(model, encoder_input)[1:] #remove SOS\n",
        "      scores.append(prefix_accuracy_single(Y_test[j], generated, id_to_token))\n",
        "    rscores.append(np.mean(scores))\n",
        "  return np.mean(rscores),np.std(rscores)\n",
        "\n",
        "res, std = test(20,10)\n",
        "print(\"score=\",res,\"std=\",std)"
      ],
      "metadata": {
        "colab": {
          "base_uri": "https://localhost:8080/"
        },
        "id": "rV_FnF81eaBQ",
        "outputId": "e4216a6a-73c2-4e52-eb84-6df3ad0a6ddb"
      },
      "execution_count": null,
      "outputs": [
        {
          "output_type": "stream",
          "name": "stdout",
          "text": [
            "round= 0\n",
            "round= 1\n",
            "round= 2\n",
            "round= 3\n",
            "round= 4\n",
            "round= 5\n",
            "round= 6\n",
            "round= 7\n",
            "round= 8\n",
            "round= 9\n",
            "score= 1.0 std= 0.0\n"
          ]
        }
      ]
    },
    {
      "cell_type": "markdown",
      "source": [
        "### Model testing 2\n",
        "To see if the model acquired general rules, test at fixed depth 3."
      ],
      "metadata": {
        "id": "NVgcVLjtdmA7"
      }
    },
    {
      "cell_type": "code",
      "source": [
        "#---Testing the model at fixed depth 3---\n",
        "def test_custom(no=20,rounds=10):\n",
        "  rscores =[]\n",
        "  for i in range(rounds):\n",
        "    print(\"round=\",i)\n",
        "    X_test, Y_test = generate_dataset_depth3(no) #formula generator at depth 3 fixed\n",
        "    scores = []\n",
        "    for j in range(no):\n",
        "      encoder_input=X_test[j]\n",
        "      generated = autoregressive_decode(model, encoder_input)[1:] #remove SOS\n",
        "      scores.append(prefix_accuracy_single(Y_test[j], generated, id_to_token))\n",
        "    rscores.append(np.mean(scores))\n",
        "  return np.mean(rscores),np.std(rscores)\n",
        "\n",
        "res, std = test_custom(20,10)\n",
        "print(\"score=\",res,\"std=\",std)"
      ],
      "metadata": {
        "id": "VRY_b_Jo3pA5",
        "colab": {
          "base_uri": "https://localhost:8080/"
        },
        "outputId": "4ae8022f-d91a-479b-ae40-52241d095750"
      },
      "execution_count": null,
      "outputs": [
        {
          "output_type": "stream",
          "name": "stdout",
          "text": [
            "round= 0\n",
            "round= 1\n",
            "round= 2\n",
            "round= 3\n",
            "round= 4\n",
            "round= 5\n",
            "round= 6\n",
            "round= 7\n",
            "round= 8\n",
            "round= 9\n",
            "score= 1.0 std= 0.0\n"
          ]
        }
      ]
    },
    {
      "cell_type": "markdown",
      "source": [
        "### Example of model RPN prediction"
      ],
      "metadata": {
        "id": "h0SaPu7cac0K"
      }
    },
    {
      "cell_type": "code",
      "source": [
        "#---some example of predictions made by the model---\n",
        "X_test, Y_test = generate_dataset(4)\n",
        "for i in range(4):\n",
        "    x =X_test[i]\n",
        "    y =Y_test[i]\n",
        "    y_pred_ids = autoregressive_decode(model, x)[1:]\n",
        "    infix  = decode_sequence(x,id_to_token)\n",
        "    target = decode_sequence(y,id_to_token)\n",
        "    pred   = decode_sequence(y_pred_ids,id_to_token)\n",
        "    acc    = prefix_accuracy_single(y,y_pred_ids,id_to_token)\n",
        "    print(f\"Infix :   {infix}\")\n",
        "    print(f\"Target:   {target}\")\n",
        "    print(f\"Predicted:{pred}|prefix acc= {acc:.2f}\")\n",
        "    print(\"-\" * 50)\n"
      ],
      "metadata": {
        "id": "ihwKea2TNt-P",
        "colab": {
          "base_uri": "https://localhost:8080/"
        },
        "outputId": "1938bccb-6a5f-4ae6-8966-a22887884dcf"
      },
      "execution_count": null,
      "outputs": [
        {
          "output_type": "stream",
          "name": "stdout",
          "text": [
            "Infix :   ( ( d + c ) * d )\n",
            "Target:   d c + d *\n",
            "Predicted:d c + d *|prefix acc= 1.00\n",
            "--------------------------------------------------\n",
            "Infix :   ( ( d + c ) + ( ( d - e ) + d ) )\n",
            "Target:   d c + d e - d + +\n",
            "Predicted:d c + d e - d + +|prefix acc= 1.00\n",
            "--------------------------------------------------\n",
            "Infix :   ( ( c + b ) / ( ( e - a ) - ( c + d ) ) )\n",
            "Target:   c b + e a - c d + - /\n",
            "Predicted:c b + e a - c d + - /|prefix acc= 1.00\n",
            "--------------------------------------------------\n",
            "Infix :   ( ( e - e ) - ( d * ( c / d ) ) )\n",
            "Target:   e e - d c d / * -\n",
            "Predicted:e e - d c d / * -|prefix acc= 1.00\n",
            "--------------------------------------------------\n"
          ]
        }
      ]
    },
    {
      "cell_type": "markdown",
      "source": [
        "# Score Analysis\n",
        "\n",
        "##**SCORE: 1.0** - **Standard Deviation: 0.0**\n",
        "\n",
        "\n",
        "The model is able to give perfect score on general dataset of all dimension and also on dataset of depth 3 (0.99-1), explicitly evidencing how the model is well able to learn all the patterns up to depth 3.\n",
        "\n",
        "This perfect score is the result of several favorable factors:\n",
        "\n",
        "- **Limited expression space**  \n",
        "  The data generator produces formulas with bounded depth and limited variability. Many expressions or sub-expressions are seen multiple times during training, and testing.\n",
        "\n",
        "- **Depth limited to 3**  \n",
        "  By capping the syntactic depth, the model faces a manageable number of structural patterns. This simplifies the learning task and helps the model capture all meaningful variations.\n",
        "\n",
        "- **Parenthesized infix expressions**  \n",
        "  The use of parentheses in every operation removes ambiguity related to operator precedence or associativity. This clarity allows the model to focus purely on syntax conversion, not interpretation.\n",
        "\n",
        "---\n",
        "\n",
        "> ⚠️ If the expression depth or vocabulary were increased, or if parentheses were removed, the model would surely require more parameters."
      ],
      "metadata": {
        "id": "i8qDP21J9SRH"
      }
    },
    {
      "cell_type": "markdown",
      "source": [
        "## 🔁 Comparison with LSTM-based Architecture\n",
        "\n",
        "Here i compare the results obtained with the Transformer model to those achieved using a variation of an LSTM encoder-decoder architecture, enhanced with **Bahdanau attention**.\n"
      ],
      "metadata": {
        "id": "SxyVuzPMClj9"
      }
    },
    {
      "cell_type": "markdown",
      "source": [
        "A small LSTM decoder-encoder architecture can obtain similar results (score  around 0.99-1) with around the same number of parameters. For the sake of generalization (in case of increasing depth in future experiments) and since we saw transformer architectures during the course's labs, i decided to choose it to show in the project ipynb file.\n",
        "\n",
        "Moreover, Transformers offer better parallelization capabilities during training and inference, which can become a significant advantage as the model scales. The self-attention mechanism is also inherently more flexible for handling variable-length sequences, which may be beneficial if the input structure evolves beyond the current constraints.\n",
        "\n"
      ],
      "metadata": {
        "id": "BU57ymqyMzRj"
      }
    }
  ]
}